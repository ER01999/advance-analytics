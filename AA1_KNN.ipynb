{
  "nbformat": 4,
  "nbformat_minor": 0,
  "metadata": {
    "colab": {
      "name": "AA1_KNN.ipynb",
      "provenance": []
    },
    "kernelspec": {
      "name": "python3",
      "display_name": "Python 3"
    },
    "language_info": {
      "name": "python"
    }
  },
  "cells": [
    {
      "cell_type": "code",
      "source": [
        "pip install imbalanced-learn"
      ],
      "metadata": {
        "colab": {
          "base_uri": "https://localhost:8080/"
        },
        "id": "-b_Xj48hY0eI",
        "outputId": "6234252c-6fec-43a2-ea24-8aa63333907c"
      },
      "execution_count": null,
      "outputs": [
        {
          "output_type": "stream",
          "name": "stdout",
          "text": [
            "Requirement already satisfied: imbalanced-learn in /usr/local/lib/python3.7/dist-packages (0.8.1)\n",
            "Requirement already satisfied: scipy>=0.19.1 in /usr/local/lib/python3.7/dist-packages (from imbalanced-learn) (1.4.1)\n",
            "Requirement already satisfied: joblib>=0.11 in /usr/local/lib/python3.7/dist-packages (from imbalanced-learn) (1.1.0)\n",
            "Requirement already satisfied: numpy>=1.13.3 in /usr/local/lib/python3.7/dist-packages (from imbalanced-learn) (1.21.5)\n",
            "Requirement already satisfied: scikit-learn>=0.24 in /usr/local/lib/python3.7/dist-packages (from imbalanced-learn) (1.0.2)\n",
            "Requirement already satisfied: threadpoolctl>=2.0.0 in /usr/local/lib/python3.7/dist-packages (from scikit-learn>=0.24->imbalanced-learn) (3.1.0)\n"
          ]
        }
      ]
    },
    {
      "cell_type": "code",
      "execution_count": 1,
      "metadata": {
        "id": "FivAbI-iG4At"
      },
      "outputs": [],
      "source": [
        "import pandas as pd\n",
        "import numpy as np\n",
        "import sklearn\n",
        "from sklearn.neighbors import KNeighborsClassifier\n",
        "from sklearn.model_selection import train_test_split\n",
        "from sklearn.model_selection import cross_val_score\n",
        "from sklearn.model_selection import GridSearchCV\n",
        "from imblearn.under_sampling import NearMiss\n",
        "from imblearn.under_sampling import CondensedNearestNeighbour\n",
        "from imblearn.over_sampling import SMOTE\n",
        "from imblearn.over_sampling import ADASYN\n",
        "from imblearn.over_sampling import BorderlineSMOTE\n",
        "from imblearn.over_sampling import KMeansSMOTE\n",
        "from imblearn.combine import SMOTETomek\n",
        "from imblearn.combine import SMOTEENN\n",
        "from imblearn.ensemble import RUSBoostClassifier"
      ]
    },
    {
      "cell_type": "code",
      "source": [
        "data = pd.read_csv('cleanedDataClassOccupation.csv')\n"
      ],
      "metadata": {
        "id": "83LpcOViH6bA"
      },
      "execution_count": 8,
      "outputs": []
    },
    {
      "cell_type": "code",
      "source": [
        "X = data.drop(columns = ['client_id', 'target'])\n",
        "y = data['target']"
      ],
      "metadata": {
        "id": "D2jVKgfbRZ7E"
      },
      "execution_count": 9,
      "outputs": []
    },
    {
      "cell_type": "code",
      "source": [
        "X_train, X_test, y_train, y_test = train_test_split(X, y, test_size = 0.15, random_state = 42, stratify = y)"
      ],
      "metadata": {
        "id": "_0V2Avm7RZJG"
      },
      "execution_count": 10,
      "outputs": []
    },
    {
      "cell_type": "code",
      "source": [
        "print('Number of 1 cases:{}'.format(np.count_nonzero(data['target'] == 1)))\n",
        "print('Number of 0 cases:{}'.format(np.count_nonzero(data['target'] == 0)))\n",
        "# Rate is about 1:32\n",
        "print('Number of 1 cases is the training data:{}'.format(np.count_nonzero(y_train == 1)))\n",
        "print('Number of 0 cases is the training data:{}'.format(np.count_nonzero(y_train == 0)))\n",
        "print('Number of 1 cases is the test data:{}'.format(np.count_nonzero(y_test == 1)))\n",
        "print('Number of 0 cases is the test data:{}'.format(np.count_nonzero(y_test == 0)))\n",
        "# Proportion of 1's and 0's remains the same in the training and test datasets due to the stratification\n",
        "# This generally improves performance\n"
      ],
      "metadata": {
        "colab": {
          "base_uri": "https://localhost:8080/"
        },
        "id": "kUCwvpWUIYSe",
        "outputId": "8e44da66-3f20-4706-f9d2-9ae9d4ecd989"
      },
      "execution_count": 11,
      "outputs": [
        {
          "output_type": "stream",
          "name": "stdout",
          "text": [
            "Number of 1 cases:1913\n",
            "Number of 0 cases:61784\n",
            "Number of 1 cases is the training data:1626\n",
            "Number of 0 cases is the training data:52516\n",
            "Number of 1 cases is the test data:287\n",
            "Number of 0 cases is the test data:9268\n"
          ]
        }
      ]
    },
    {
      "cell_type": "markdown",
      "source": [
        "### K-NN Classifier\n",
        "Points are classified based on the majority class of the k-nearest neighboring points (measured by some distance)"
      ],
      "metadata": {
        "id": "GMaw_1K6J1i3"
      }
    },
    {
      "cell_type": "code",
      "source": [
        "# Most basic classifier using gridsearch cv to optimize the hyperparameters (number of neighbors)\n",
        "\n",
        "neigh = KNeighborsClassifier(n_neighbors=2, weights = 'distance')\n",
        "neigh.fit(X_train, y_train)\n",
        "predictions = neigh.predict(X_test)\n",
        "sklearn.metrics.ConfusionMatrixDisplay.from_predictions(y_test, predictions)"
      ],
      "metadata": {
        "colab": {
          "base_uri": "https://localhost:8080/",
          "height": 296
        },
        "id": "7Z2EsFNMJxBe",
        "outputId": "dc88c23e-a240-43fb-de66-a18dc3d50ef5"
      },
      "execution_count": null,
      "outputs": [
        {
          "output_type": "execute_result",
          "data": {
            "text/plain": [
              "<sklearn.metrics._plot.confusion_matrix.ConfusionMatrixDisplay at 0x7f9a75dfd650>"
            ]
          },
          "metadata": {},
          "execution_count": 66
        },
        {
          "output_type": "display_data",
          "data": {
            "text/plain": [
              "<Figure size 432x288 with 2 Axes>"
            ],
            "image/png": "[encoded data removed]"
          },
          "metadata": {
            "needs_background": "light"
          }
        }
      ]
    },
    {
      "cell_type": "code",
      "source": [
        "# Data level solutions:\n",
        "# Over-sampling the minority class (randomly or informatively)\n",
        "# Under-sampling the majority class (randomly or informatively)\n",
        "\n",
        "# UNDERSAMPLING\n",
        "undersample = NearMiss(version = 3, sampling_strategy=0.66)\n",
        "X_train_u, y_train_u = undersample.fit_resample(X_train, y_train)\n",
        "\n",
        "neigh_u = KNeighborsClassifier(n_neighbors=5, weights = 'distance')\n",
        "neigh_u.fit(X_train_u, y_train_u)\n",
        "predictions_u = neigh_u.predict(X_test)\n",
        "sklearn.metrics.ConfusionMatrixDisplay.from_predictions(y_test, predictions_u)"
      ],
      "metadata": {
        "colab": {
          "base_uri": "https://localhost:8080/",
          "height": 296
        },
        "id": "GL3j8FhHOPrm",
        "outputId": "f67a9450-d39a-461c-ae8c-d6f0bcf32cb7"
      },
      "execution_count": null,
      "outputs": [
        {
          "output_type": "execute_result",
          "data": {
            "text/plain": [
              "<sklearn.metrics._plot.confusion_matrix.ConfusionMatrixDisplay at 0x7f9a760f3890>"
            ]
          },
          "metadata": {},
          "execution_count": 75
        },
        {
          "output_type": "display_data",
          "data": {
            "text/plain": [
              "<Figure size 432x288 with 2 Axes>"
            ],
            "image/png": "[encoded data removed]"
          },
          "metadata": {
            "needs_background": "light"
          }
        }
      ]
    },
    {
      "cell_type": "code",
      "source": [
        "# Oversampling with SMOTE\n",
        "oversample = SMOTE(random_state = 1)\n",
        "X_train_o, y_train_o = oversample.fit_resample(X_train, y_train)\n",
        "\n",
        "\n",
        "neigh_o = KNeighborsClassifier(n_neighbors=5, weights = 'distance')\n",
        "neigh_o.fit(X_train_o, y_train_o)\n",
        "predictions_o = neigh_o.predict(X_test)\n",
        "sklearn.metrics.ConfusionMatrixDisplay.from_predictions(y_test, predictions_o)\n"
      ],
      "metadata": {
        "colab": {
          "base_uri": "https://localhost:8080/",
          "height": 296
        },
        "id": "vbH6x61Kbtvi",
        "outputId": "203a910c-a3be-4562-8ef6-5cc751f4766b"
      },
      "execution_count": null,
      "outputs": [
        {
          "output_type": "execute_result",
          "data": {
            "text/plain": [
              "<sklearn.metrics._plot.confusion_matrix.ConfusionMatrixDisplay at 0x7f9a75ab3b10>"
            ]
          },
          "metadata": {},
          "execution_count": 82
        },
        {
          "output_type": "display_data",
          "data": {
            "text/plain": [
              "<Figure size 432x288 with 2 Axes>"
            ],
            "image/png": "[encoded data removed]"
          },
          "metadata": {
            "needs_background": "light"
          }
        }
      ]
    },
    {
      "cell_type": "code",
      "source": [
        "oversample = ADASYN(random_state = 1)\n",
        "X_train_o, y_train_o = oversample.fit_resample(X_train, y_train)\n",
        "\n",
        "\n",
        "neigh_o = KNeighborsClassifier(n_neighbors=5, weights = 'distance')\n",
        "neigh_o.fit(X_train_o, y_train_o)\n",
        "predictions_o = neigh_o.predict(X_test)\n",
        "sklearn.metrics.ConfusionMatrixDisplay.from_predictions(y_test, predictions_o)\n"
      ],
      "metadata": {
        "colab": {
          "base_uri": "https://localhost:8080/",
          "height": 296
        },
        "id": "33c2MmCsduzC",
        "outputId": "42877f61-76d4-4a3d-b0be-1b1d8983318b"
      },
      "execution_count": null,
      "outputs": [
        {
          "output_type": "execute_result",
          "data": {
            "text/plain": [
              "<sklearn.metrics._plot.confusion_matrix.ConfusionMatrixDisplay at 0x7f9a75a99a50>"
            ]
          },
          "metadata": {},
          "execution_count": 84
        },
        {
          "output_type": "display_data",
          "data": {
            "text/plain": [
              "<Figure size 432x288 with 2 Axes>"
            ],
            "image/png": "[encoded data removed]"
          },
          "metadata": {
            "needs_background": "light"
          }
        }
      ]
    },
    {
      "cell_type": "code",
      "source": [
        "oversample = BorderlineSMOTE(random_state = 1)\n",
        "X_train_o, y_train_o = oversample.fit_resample(X_train, y_train)\n",
        "\n",
        "\n",
        "neigh_o = KNeighborsClassifier(n_neighbors=5, weights = 'distance')\n",
        "neigh_o.fit(X_train_o, y_train_o)\n",
        "predictions_o = neigh_o.predict(X_test)\n",
        "sklearn.metrics.ConfusionMatrixDisplay.from_predictions(y_test, predictions_o)\n"
      ],
      "metadata": {
        "colab": {
          "base_uri": "https://localhost:8080/",
          "height": 296
        },
        "id": "wnKvj0p4eBL5",
        "outputId": "2232928d-2999-4853-dfc1-cb02d6ccd2f6"
      },
      "execution_count": null,
      "outputs": [
        {
          "output_type": "execute_result",
          "data": {
            "text/plain": [
              "<sklearn.metrics._plot.confusion_matrix.ConfusionMatrixDisplay at 0x7f9a7603c710>"
            ]
          },
          "metadata": {},
          "execution_count": 85
        },
        {
          "output_type": "display_data",
          "data": {
            "text/plain": [
              "<Figure size 432x288 with 2 Axes>"
            ],
            "image/png": "[encoded data removed]"
          },
          "metadata": {
            "needs_background": "light"
          }
        }
      ]
    },
    {
      "cell_type": "code",
      "source": [
        "# Takes about 4 mins\n",
        "combsample = SMOTEENN(random_state = 1)\n",
        "X_train_c, y_train_c = combsample.fit_resample(X_train, y_train)\n",
        "\n",
        "\n",
        "neigh_c = KNeighborsClassifier(n_neighbors=5, weights = 'distance')\n",
        "neigh_c.fit(X_train_c, y_train_c)\n",
        "predictions_c = neigh_c.predict(X_test)\n",
        "sklearn.metrics.ConfusionMatrixDisplay.from_predictions(y_test, predictions_c)\n"
      ],
      "metadata": {
        "colab": {
          "base_uri": "https://localhost:8080/",
          "height": 298
        },
        "id": "mvBX2076eg-Y",
        "outputId": "a875af5b-bf8d-4343-f863-d55f45f32cc4"
      },
      "execution_count": 12,
      "outputs": [
        {
          "output_type": "execute_result",
          "data": {
            "text/plain": [
              "<sklearn.metrics._plot.confusion_matrix.ConfusionMatrixDisplay at 0x7fa44fdb3e90>"
            ]
          },
          "metadata": {},
          "execution_count": 12
        },
        {
          "output_type": "display_data",
          "data": {
            "text/plain": [
              "<Figure size 432x288 with 2 Axes>"
            ],
            "image/png": "[encoded data removed]"
          },
          "metadata": {
            "needs_background": "light"
          }
        }
      ]
    },
    {
      "cell_type": "code",
      "source": [
        ""
      ],
      "metadata": {
        "id": "Z0qgv0hBw8RC"
      },
      "execution_count": null,
      "outputs": []
    },
    {
      "cell_type": "code",
      "source": [
        "combsample = SMOTETomek(random_state = 1)\n",
        "X_train_c, y_train_c = combsample.fit_resample(X_train, y_train)\n",
        "\n",
        "\n",
        "neigh_c = KNeighborsClassifier(n_neighbors=5, weights = 'distance')\n",
        "neigh_c.fit(X_train_c, y_train_c)\n",
        "predictions_c = neigh_c.predict(X_test)\n",
        "sklearn.metrics.ConfusionMatrixDisplay.from_predictions(y_test, predictions_c)\n"
      ],
      "metadata": {
        "colab": {
          "base_uri": "https://localhost:8080/",
          "height": 296
        },
        "id": "KndARcqEhTBX",
        "outputId": "18b0598a-dbc4-4465-b8f8-7f6ed442ccf1"
      },
      "execution_count": null,
      "outputs": [
        {
          "output_type": "execute_result",
          "data": {
            "text/plain": [
              "<sklearn.metrics._plot.confusion_matrix.ConfusionMatrixDisplay at 0x7fc63a71bd50>"
            ]
          },
          "metadata": {},
          "execution_count": 10
        },
        {
          "output_type": "display_data",
          "data": {
            "text/plain": [
              "<Figure size 432x288 with 2 Axes>"
            ],
            "image/png": "[encoded data removed]"
          },
          "metadata": {
            "needs_background": "light"
          }
        }
      ]
    }
  ]
}