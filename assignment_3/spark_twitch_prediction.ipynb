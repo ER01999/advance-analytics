{
 "cells": [
  {
   "cell_type": "code",
   "execution_count": 1,
   "metadata": {},
   "outputs": [],
   "source": [
    "import threading\n",
    "\n",
    "# Helper thread to avoid the Spark StreamingContext from blocking Jupyter\n",
    "        \n",
    "class StreamingThread(threading.Thread):\n",
    "    def __init__(self, ssc):\n",
    "        super().__init__()\n",
    "        self.ssc = ssc\n",
    "    def run(self):\n",
    "        self.ssc.start()\n",
    "        self.ssc.awaitTermination()\n",
    "    def stop(self):\n",
    "        print('----- Stopping... this may take a few seconds -----')\n",
    "        self.ssc.stop(stopSparkContext=False, stopGraceFully=True)"
   ]
  },
  {
   "cell_type": "code",
   "execution_count": 2,
   "metadata": {
    "scrolled": true
   },
   "outputs": [
    {
     "data": {
      "text/html": [
       "\n",
       "        <div>\n",
       "            <p><b>SparkContext</b></p>\n",
       "\n",
       "            <p><a href=\"http://192.168.0.101:4045\">Spark UI</a></p>\n",
       "\n",
       "            <dl>\n",
       "              <dt>Version</dt>\n",
       "                <dd><code>v3.2.1</code></dd>\n",
       "              <dt>Master</dt>\n",
       "                <dd><code>local[*]</code></dd>\n",
       "              <dt>AppName</dt>\n",
       "                <dd><code>PySparkShell</code></dd>\n",
       "            </dl>\n",
       "        </div>\n",
       "        "
      ],
      "text/plain": [
       "<SparkContext master=local[*] appName=PySparkShell>"
      ]
     },
     "execution_count": 2,
     "metadata": {},
     "output_type": "execute_result"
    }
   ],
   "source": [
    "sc"
   ]
  },
  {
   "cell_type": "code",
   "execution_count": 3,
   "metadata": {},
   "outputs": [
    {
     "data": {
      "text/html": [
       "\n",
       "            <div>\n",
       "                <p><b>SparkSession - hive</b></p>\n",
       "                \n",
       "        <div>\n",
       "            <p><b>SparkContext</b></p>\n",
       "\n",
       "            <p><a href=\"http://192.168.0.101:4045\">Spark UI</a></p>\n",
       "\n",
       "            <dl>\n",
       "              <dt>Version</dt>\n",
       "                <dd><code>v3.2.1</code></dd>\n",
       "              <dt>Master</dt>\n",
       "                <dd><code>local[*]</code></dd>\n",
       "              <dt>AppName</dt>\n",
       "                <dd><code>PySparkShell</code></dd>\n",
       "            </dl>\n",
       "        </div>\n",
       "        \n",
       "            </div>\n",
       "        "
      ],
      "text/plain": [
       "<pyspark.sql.session.SparkSession at 0x7fa8a540caf0>"
      ]
     },
     "execution_count": 3,
     "metadata": {},
     "output_type": "execute_result"
    }
   ],
   "source": [
    "spark"
   ]
  },
  {
   "cell_type": "code",
   "execution_count": 4,
   "metadata": {},
   "outputs": [],
   "source": [
    "from pyspark.streaming import StreamingContext\n",
    "from pyspark.sql import Row\n",
    "from pyspark.sql.functions import udf, struct, array, col, lit\n",
    "from pyspark.sql.types import StringType"
   ]
  },
  {
   "cell_type": "code",
   "execution_count": 5,
   "metadata": {},
   "outputs": [],
   "source": [
    "from pyspark.ml import PipelineModel\n",
    "from pyspark.ml.evaluation import MulticlassClassificationEvaluator\n",
    "\n",
    "globals()['models_loaded'] = False\n",
    "globals()['my_model'] = None\n",
    "\n",
    "# Create evaluator\n",
    "evaluatorMulti = MulticlassClassificationEvaluator(labelCol=\"label\", predictionCol=\"prediction\")\n",
    "\n",
    "def process(time, rdd):\n",
    "    if rdd.isEmpty():\n",
    "        return\n",
    "    \n",
    "    print(\"========= %s =========\" % str(time))\n",
    "    \n",
    "    # Convert to data frame\n",
    "    df = spark.read.json(rdd)\n",
    "    df.show()\n",
    "    \n",
    "    # Load in the model if not yet loaded:\n",
    "    if not globals()['models_loaded']:\n",
    "        # load in your models here\n",
    "        globals()['my_model'] =  PipelineModel.load(\"pipeline_model\")\n",
    "        globals()['models_loaded'] = True\n",
    "        \n",
    "    # And then predict using the loaded model: \n",
    "    df_result = globals()['my_model'].transform(df)\n",
    "    \n",
    "    # Evaluation \n",
    "    predictionAndTarget = df_result.select(\"label\", \"prediction\")\n",
    "    acc = evaluatorMulti.evaluate(predictionAndTarget, {evaluatorMulti.metricName: \"accuracy\"})\n",
    "    f1 = evaluatorMulti.evaluate(predictionAndTarget, {evaluatorMulti.metricName: \"f1\"})\n",
    "    f1_label_0 = evaluatorMulti.evaluate(predictionAndTarget, \n",
    "                                {evaluatorMulti.metricName: \"fMeasureByLabel\", evaluatorMulti.metricLabel:0.0})\n",
    "    f1_label_1 = evaluatorMulti.evaluate(predictionAndTarget, \n",
    "                                {evaluatorMulti.metricName: \"fMeasureByLabel\", evaluatorMulti.metricLabel:1.0})\n",
    "    f1_label_2 = evaluatorMulti.evaluate(predictionAndTarget, \n",
    "                                {evaluatorMulti.metricName: \"fMeasureByLabel\", evaluatorMulti.metricLabel:2.0})\n",
    "    weightedPrecision = evaluatorMulti.evaluate(predictionAndTarget, {evaluatorMulti.metricName: \"weightedPrecision\"})\n",
    "    weightedRecall = evaluatorMulti.evaluate(predictionAndTarget, {evaluatorMulti.metricName: \"weightedRecall\"})\n",
    "    \n",
    "    print(f\"F1 Score for #loltyler1: {f1_label_0}\")\n",
    "    print(f\"F1 Score for #easportsfifa: {f1_label_1}\")\n",
    "    print(f\"F1 Score for #trainwreckstv: {f1_label_2}\\n\")\n",
    "    print(f\"Accuracy: {acc}\")\n",
    "    print(f\"F1 Score: {f1}\")\n",
    "    print(f\"Weighted Precision: {weightedPrecision}\")\n",
    "    print(f\"Weighted Recall: {weightedRecall}\")\n",
    "    df_result.select(\"channel\", \"message\", \"label\", \"prediction\").show()\n",
    "    "
   ]
  },
  {
   "cell_type": "code",
   "execution_count": 6,
   "metadata": {},
   "outputs": [],
   "source": [
    "ssc = StreamingContext(sc, 10)"
   ]
  },
  {
   "cell_type": "code",
   "execution_count": 7,
   "metadata": {
    "scrolled": true
   },
   "outputs": [],
   "source": [
    "lines = ssc.socketTextStream(\"localhost\", 8080)\n",
    "lines.foreachRDD(process)"
   ]
  },
  {
   "cell_type": "code",
   "execution_count": 9,
   "metadata": {
    "scrolled": false
   },
   "outputs": [
    {
     "name": "stderr",
     "output_type": "stream",
     "text": [
      "22/05/27 18:12:08 WARN StreamingContext: StreamingContext has already been started\n",
      "22/05/27 18:12:09 WARN RandomBlockReplicationPolicy: Expecting 1 replicas with only 0 peer/s.\n",
      "22/05/27 18:12:09 WARN BlockManager: Block input-0-1653667929400 replicated to only 0 peer(s) instead of 1 peers\n",
      "22/05/27 18:12:10 WARN RandomBlockReplicationPolicy: Expecting 1 replicas with only 0 peer/s.\n",
      "22/05/27 18:12:10 WARN BlockManager: Block input-0-1653667930400 replicated to only 0 peer(s) instead of 1 peers\n",
      "                                                                                \r"
     ]
    },
    {
     "name": "stdout",
     "output_type": "stream",
     "text": [
      "========= 2022-05-27 18:12:10 =========\n"
     ]
    },
    {
     "name": "stderr",
     "output_type": "stream",
     "text": [
      "22/05/27 18:12:11 WARN RandomBlockReplicationPolicy: Expecting 1 replicas with only 0 peer/s.\n",
      "22/05/27 18:12:11 WARN BlockManager: Block input-0-1653667931400 replicated to only 0 peer(s) instead of 1 peers\n",
      "22/05/27 18:12:12 WARN RandomBlockReplicationPolicy: Expecting 1 replicas with only 0 peer/s.\n",
      "22/05/27 18:12:12 WARN BlockManager: Block input-0-1653667932400 replicated to only 0 peer(s) instead of 1 peers\n",
      "22/05/27 18:12:13 WARN RandomBlockReplicationPolicy: Expecting 1 replicas with only 0 peer/s.\n",
      "22/05/27 18:12:13 WARN BlockManager: Block input-0-1653667933400 replicated to only 0 peer(s) instead of 1 peers\n"
     ]
    },
    {
     "name": "stdout",
     "output_type": "stream",
     "text": [
      "+--------------+--------------------+--------------------+-----------------+\n",
      "|       channel|            datetime|             message|         username|\n",
      "+--------------+--------------------+--------------------+-----------------+\n",
      "|#trainwreckstv|2022-05-27T16:12:...|https://twitter.c...|       streamlabs|\n",
      "| #easportsfifa|2022-05-27T16:12:...|          Serie A <3|         kishod25|\n",
      "|    #loltyler1|2022-05-27T16:12:...|               !opgg|         zorkio92|\n",
      "| #easportsfifa|2022-05-27T16:12:...|argentineans dont...|        dezorisfc|\n",
      "|    #loltyler1|2022-05-27T16:12:...|@zorkio92 https:/...|         fossabot|\n",
      "|#trainwreckstv|2022-05-27T16:12:...|this game blows  ...|       drewzus520|\n",
      "|    #loltyler1|2022-05-27T16:12:...|           PotFriend|     rand0mguy360|\n",
      "|    #loltyler1|2022-05-27T16:12:...|           PartyTime|falloutpipboy3000|\n",
      "|    #loltyler1|2022-05-27T16:12:...|I want to squeeze...|         gaoferry|\n",
      "|    #loltyler1|2022-05-27T16:12:...|PotFriend PotFrie...|      tructrucker|\n",
      "|#trainwreckstv|2022-05-27T16:12:...|      baow baow baow|      drewskii711|\n",
      "|    #loltyler1|2022-05-27T16:12:...|@tarzanjesus1 Pot...|       baikolioxd|\n",
      "|    #loltyler1|2022-05-27T16:12:...|Hardstuck streame...|         hazemase|\n",
      "|    #loltyler1|2022-05-27T16:12:...|FeelsAmazingMan J...|        xrandolax|\n",
      "| #easportsfifa|2022-05-27T16:12:...|servidores en Sur...|           y2jcol|\n",
      "| #easportsfifa|2022-05-27T16:12:...|     tekkz is washed|      winterhill1|\n",
      "|    #loltyler1|2022-05-27T16:12:...|           PotFriend|     fluff_addict|\n",
      "|#trainwreckstv|2022-05-27T16:12:...| this shit rigged af|        kunal2509|\n",
      "|#trainwreckstv|2022-05-27T16:12:...|squadHYPERS squad...|    demotedanimal|\n",
      "|    #loltyler1|2022-05-27T16:12:...|     PotFriend howdy|   rarehomosapien|\n",
      "+--------------+--------------------+--------------------+-----------------+\n",
      "only showing top 20 rows\n",
      "\n"
     ]
    },
    {
     "name": "stderr",
     "output_type": "stream",
     "text": [
      "22/05/27 18:12:14 WARN RandomBlockReplicationPolicy: Expecting 1 replicas with only 0 peer/s.\n",
      "22/05/27 18:12:14 WARN BlockManager: Block input-0-1653667934400 replicated to only 0 peer(s) instead of 1 peers\n",
      "22/05/27 18:12:15 WARN RandomBlockReplicationPolicy: Expecting 1 replicas with only 0 peer/s.\n",
      "22/05/27 18:12:15 WARN BlockManager: Block input-0-1653667935400 replicated to only 0 peer(s) instead of 1 peers\n",
      "22/05/27 18:12:16 WARN RandomBlockReplicationPolicy: Expecting 1 replicas with only 0 peer/s.\n",
      "22/05/27 18:12:16 WARN BlockManager: Block input-0-1653667936400 replicated to only 0 peer(s) instead of 1 peers\n",
      "22/05/27 18:12:17 WARN RandomBlockReplicationPolicy: Expecting 1 replicas with only 0 peer/s.\n",
      "22/05/27 18:12:17 WARN BlockManager: Block input-0-1653667937400 replicated to only 0 peer(s) instead of 1 peers\n",
      "22/05/27 18:12:18 WARN RandomBlockReplicationPolicy: Expecting 1 replicas with only 0 peer/s.\n",
      "22/05/27 18:12:18 WARN BlockManager: Block input-0-1653667938400 replicated to only 0 peer(s) instead of 1 peers\n",
      "                                                                                \r"
     ]
    },
    {
     "name": "stdout",
     "output_type": "stream",
     "text": [
      "F1 Score for #loltyler1: 0.7272727272727274\n",
      "F1 Score for #easportsfifa: 0.6666666666666666\n",
      "F1 Score for #trainwreckstv: 0.4000000000000001\n",
      "\n",
      "Accuracy: 0.6363636363636364\n",
      "F1 Score: 0.6418732782369148\n",
      "Weighted Precision: 0.707070707070707\n",
      "Weighted Recall: 0.6363636363636364\n"
     ]
    },
    {
     "name": "stderr",
     "output_type": "stream",
     "text": [
      "22/05/27 18:12:20 WARN RandomBlockReplicationPolicy: Expecting 1 replicas with only 0 peer/s.\n",
      "22/05/27 18:12:20 WARN BlockManager: Block input-0-1653667940400 replicated to only 0 peer(s) instead of 1 peers\n"
     ]
    },
    {
     "name": "stdout",
     "output_type": "stream",
     "text": [
      "+--------------+--------------------+-----+----------+\n",
      "|       channel|             message|label|prediction|\n",
      "+--------------+--------------------+-----+----------+\n",
      "|#trainwreckstv|https://twitter.c...|  2.0|       2.0|\n",
      "| #easportsfifa|          Serie A <3|  1.0|       1.0|\n",
      "|    #loltyler1|               !opgg|  0.0|       0.0|\n",
      "| #easportsfifa|argentineans dont...|  1.0|       1.0|\n",
      "|    #loltyler1|@zorkio92 https:/...|  0.0|       0.0|\n",
      "|#trainwreckstv|this game blows  ...|  2.0|       1.0|\n",
      "|    #loltyler1|           PotFriend|  0.0|       0.0|\n",
      "|    #loltyler1|           PartyTime|  0.0|       1.0|\n",
      "|    #loltyler1|I want to squeeze...|  0.0|       2.0|\n",
      "|    #loltyler1|PotFriend PotFrie...|  0.0|       0.0|\n",
      "|#trainwreckstv|      baow baow baow|  2.0|       1.0|\n",
      "|    #loltyler1|@tarzanjesus1 Pot...|  0.0|       0.0|\n",
      "|    #loltyler1|Hardstuck streame...|  0.0|       2.0|\n",
      "|    #loltyler1|FeelsAmazingMan J...|  0.0|       1.0|\n",
      "| #easportsfifa|servidores en Sur...|  1.0|       1.0|\n",
      "| #easportsfifa|     tekkz is washed|  1.0|       1.0|\n",
      "|    #loltyler1|           PotFriend|  0.0|       0.0|\n",
      "|#trainwreckstv| this shit rigged af|  2.0|       0.0|\n",
      "|#trainwreckstv|squadHYPERS squad...|  2.0|       2.0|\n",
      "|    #loltyler1|     PotFriend howdy|  0.0|       0.0|\n",
      "+--------------+--------------------+-----+----------+\n",
      "only showing top 20 rows\n",
      "\n",
      "========= 2022-05-27 18:12:20 =========\n",
      "+--------------+--------------------+--------------------+-----------------+\n",
      "|       channel|            datetime|             message|         username|\n",
      "+--------------+--------------------+--------------------+-----------------+\n",
      "|    #loltyler1|2022-05-27T16:12:...|@pizzaeater434, A...|         fossabot|\n",
      "| #easportsfifa|2022-05-27T16:12:...|           GlitchLit|        tote33349|\n",
      "|#trainwreckstv|2022-05-27T16:12:...|something needs t...|          lyton_m|\n",
      "| #easportsfifa|2022-05-27T16:12:...|@bothunter25 baib...|          lammelv|\n",
      "|    #loltyler1|2022-05-27T16:12:...|BatChest I LOOOVE...|        campainge|\n",
      "|#trainwreckstv|2022-05-27T16:12:...|    @Big_DV OMEGALUL|          xmon407|\n",
      "| #easportsfifa|2022-05-27T16:12:...|        eafifaLetsGo|         topeke81|\n",
      "| #easportsfifa|2022-05-27T16:12:...|DALE CAMPEÓN! DAL...|urieel_camargoo01|\n",
      "| #easportsfifa|2022-05-27T16:12:...|       final argenta|          fausber|\n",
      "|#trainwreckstv|2022-05-27T16:12:...|squadPains squadP...|        mattteo3k|\n",
      "|    #loltyler1|2022-05-27T16:12:...|      @gaoferry HUHH|         hazemase|\n",
      "| #easportsfifa|2022-05-27T16:12:...|@lennoxr80 in eur...|        nightfrvr|\n",
      "| #easportsfifa|2022-05-27T16:12:...|            <3 <3 <3|       spoooky112|\n",
      "|    #loltyler1|2022-05-27T16:12:...|       ?>???????????|        goofyguyy|\n",
      "| #easportsfifa|2022-05-27T16:12:...|              serieA|           ariim7|\n",
      "| #easportsfifa|2022-05-27T16:12:...|        eafifaLetsGo|         tatat829|\n",
      "| #easportsfifa|2022-05-27T16:12:...|                  hi| zextore_fgsswaps|\n",
      "| #easportsfifa|2022-05-27T16:12:...|Bye Bye Tekkz. Se...|  thiagobsantiago|\n",
      "|    #loltyler1|2022-05-27T16:12:...|MODS DO THIS IRL ...|     tvoja_radost|\n",
      "+--------------+--------------------+--------------------+-----------------+\n",
      "\n"
     ]
    },
    {
     "name": "stderr",
     "output_type": "stream",
     "text": [
      "22/05/27 18:12:21 WARN RandomBlockReplicationPolicy: Expecting 1 replicas with only 0 peer/s.\n",
      "22/05/27 18:12:21 WARN BlockManager: Block input-0-1653667941400 replicated to only 0 peer(s) instead of 1 peers\n"
     ]
    },
    {
     "name": "stdout",
     "output_type": "stream",
     "text": [
      "F1 Score for #loltyler1: 0.7272727272727272\n",
      "F1 Score for #easportsfifa: 0.9090909090909091\n",
      "F1 Score for #trainwreckstv: 0.8\n",
      "\n",
      "Accuracy: 0.8421052631578947\n",
      "F1 Score: 0.8440191387559809\n",
      "Weighted Precision: 0.8596491228070174\n",
      "Weighted Recall: 0.8421052631578947\n",
      "+--------------+--------------------+-----+----------+\n",
      "|       channel|             message|label|prediction|\n",
      "+--------------+--------------------+-----+----------+\n",
      "|    #loltyler1|@pizzaeater434, A...|  0.0|       0.0|\n",
      "| #easportsfifa|           GlitchLit|  1.0|       1.0|\n",
      "|#trainwreckstv|something needs t...|  2.0|       2.0|\n",
      "| #easportsfifa|@bothunter25 baib...|  1.0|       1.0|\n",
      "|    #loltyler1|BatChest I LOOOVE...|  0.0|       0.0|\n",
      "|#trainwreckstv|    @Big_DV OMEGALUL|  2.0|       0.0|\n",
      "| #easportsfifa|        eafifaLetsGo|  1.0|       1.0|\n",
      "| #easportsfifa|DALE CAMPEÓN! DAL...|  1.0|       1.0|\n",
      "| #easportsfifa|       final argenta|  1.0|       1.0|\n",
      "|#trainwreckstv|squadPains squadP...|  2.0|       2.0|\n",
      "|    #loltyler1|      @gaoferry HUHH|  0.0|       0.0|\n",
      "| #easportsfifa|@lennoxr80 in eur...|  1.0|       1.0|\n",
      "| #easportsfifa|            <3 <3 <3|  1.0|       1.0|\n",
      "|    #loltyler1|       ?>???????????|  0.0|       1.0|\n",
      "| #easportsfifa|              serieA|  1.0|       1.0|\n",
      "| #easportsfifa|        eafifaLetsGo|  1.0|       1.0|\n",
      "| #easportsfifa|                  hi|  1.0|       1.0|\n",
      "| #easportsfifa|Bye Bye Tekkz. Se...|  1.0|       0.0|\n",
      "|    #loltyler1|MODS DO THIS IRL ...|  0.0|       0.0|\n",
      "+--------------+--------------------+-----+----------+\n",
      "\n"
     ]
    },
    {
     "name": "stderr",
     "output_type": "stream",
     "text": [
      "22/05/27 18:12:22 WARN RandomBlockReplicationPolicy: Expecting 1 replicas with only 0 peer/s.\n",
      "22/05/27 18:12:22 WARN BlockManager: Block input-0-1653667942400 replicated to only 0 peer(s) instead of 1 peers\n",
      "22/05/27 18:12:23 WARN RandomBlockReplicationPolicy: Expecting 1 replicas with only 0 peer/s.\n",
      "22/05/27 18:12:23 WARN BlockManager: Block input-0-1653667943400 replicated to only 0 peer(s) instead of 1 peers\n",
      "22/05/27 18:12:23 WARN RandomBlockReplicationPolicy: Expecting 1 replicas with only 0 peer/s.\n",
      "22/05/27 18:12:23 WARN BlockManager: Block input-0-1653667943600 replicated to only 0 peer(s) instead of 1 peers\n",
      "22/05/27 18:12:24 WARN RandomBlockReplicationPolicy: Expecting 1 replicas with only 0 peer/s.\n",
      "22/05/27 18:12:24 WARN BlockManager: Block input-0-1653667944400 replicated to only 0 peer(s) instead of 1 peers\n",
      "22/05/27 18:12:24 WARN RandomBlockReplicationPolicy: Expecting 1 replicas with only 0 peer/s.\n",
      "22/05/27 18:12:24 WARN BlockManager: Block input-0-1653667944600 replicated to only 0 peer(s) instead of 1 peers\n",
      "22/05/27 18:12:25 WARN RandomBlockReplicationPolicy: Expecting 1 replicas with only 0 peer/s.\n",
      "22/05/27 18:12:25 WARN BlockManager: Block input-0-1653667945400 replicated to only 0 peer(s) instead of 1 peers\n",
      "22/05/27 18:12:26 WARN RandomBlockReplicationPolicy: Expecting 1 replicas with only 0 peer/s.\n",
      "22/05/27 18:12:26 WARN BlockManager: Block input-0-1653667946400 replicated to only 0 peer(s) instead of 1 peers\n",
      "22/05/27 18:12:27 WARN RandomBlockReplicationPolicy: Expecting 1 replicas with only 0 peer/s.\n",
      "22/05/27 18:12:27 WARN BlockManager: Block input-0-1653667947400 replicated to only 0 peer(s) instead of 1 peers\n",
      "22/05/27 18:12:28 WARN RandomBlockReplicationPolicy: Expecting 1 replicas with only 0 peer/s.\n",
      "22/05/27 18:12:28 WARN BlockManager: Block input-0-1653667948400 replicated to only 0 peer(s) instead of 1 peers\n",
      "22/05/27 18:12:28 WARN RandomBlockReplicationPolicy: Expecting 1 replicas with only 0 peer/s.\n",
      "22/05/27 18:12:28 WARN BlockManager: Block input-0-1653667948600 replicated to only 0 peer(s) instead of 1 peers\n",
      "22/05/27 18:12:29 WARN RandomBlockReplicationPolicy: Expecting 1 replicas with only 0 peer/s.\n",
      "22/05/27 18:12:29 WARN BlockManager: Block input-0-1653667949400 replicated to only 0 peer(s) instead of 1 peers\n",
      "                                                                                \r"
     ]
    },
    {
     "name": "stdout",
     "output_type": "stream",
     "text": [
      "========= 2022-05-27 18:12:30 =========\n",
      "+--------------+--------------------+--------------------+----------------+\n",
      "|       channel|            datetime|             message|        username|\n",
      "+--------------+--------------------+--------------------+----------------+\n",
      "|    #loltyler1|2022-05-27T16:12:...|         ???????????|       nikla1997|\n",
      "|    #loltyler1|2022-05-27T16:12:...|      howd that hit?|       goofyguyy|\n",
      "| #easportsfifa|2022-05-27T16:12:...|           lets gooo|          trenk9|\n",
      "|#trainwreckstv|2022-05-27T16:12:...|I still don’t und...|      sinofino86|\n",
      "| #easportsfifa|2022-05-27T16:12:...|           rip tekkz|          nxifra|\n",
      "| #easportsfifa|2022-05-27T16:12:...|  y chile? y los br?|        el_estii|\n",
      "| #easportsfifa|2022-05-27T16:12:...|NEW TIMES NEW PLA...|          toze10|\n",
      "| #easportsfifa|2022-05-27T16:12:...|     amigo que final|      joacosky10|\n",
      "| #easportsfifa|2022-05-27T16:12:...|               hello|zextore_fgsswaps|\n",
      "|    #loltyler1|2022-05-27T16:12:...|           Lollipop!|     tom_cat1950|\n",
      "|    #loltyler1|2022-05-27T16:12:...|!challenger tyler...|        kabratek|\n",
      "| #easportsfifa|2022-05-27T16:12:...|Intento hacer eso...|   jhonramirezut|\n",
      "|    #loltyler1|2022-05-27T16:12:...|BigBrother 🏅 🏅 ...|        nightbot|\n",
      "| #easportsfifa|2022-05-27T16:12:...|          vamos nico|        marcemxd|\n",
      "|#trainwreckstv|2022-05-27T16:12:...|Just pay this man...|      yoremeofga|\n",
      "| #easportsfifa|2022-05-27T16:12:...|      @tote33349 bit|    ottgott19900|\n",
      "|    #loltyler1|2022-05-27T16:12:...|                KEKW|        bynova12|\n",
      "| #easportsfifa|2022-05-27T16:12:...|  EUROPA A CASAAAAAA|   christiannn96|\n",
      "| #easportsfifa|2022-05-27T16:12:...|        DALE BOCAAAA|         matia01|\n",
      "|    #loltyler1|2022-05-27T16:12:...|PotFriend PotFrie...|        luand4rk|\n",
      "+--------------+--------------------+--------------------+----------------+\n",
      "only showing top 20 rows\n",
      "\n"
     ]
    },
    {
     "name": "stderr",
     "output_type": "stream",
     "text": [
      "22/05/27 18:12:30 WARN RandomBlockReplicationPolicy: Expecting 1 replicas with only 0 peer/s.\n",
      "22/05/27 18:12:30 WARN BlockManager: Block input-0-1653667950600 replicated to only 0 peer(s) instead of 1 peers\n"
     ]
    },
    {
     "name": "stdout",
     "output_type": "stream",
     "text": [
      "F1 Score for #loltyler1: 0.7936507936507936\n",
      "F1 Score for #easportsfifa: 0.7027027027027027\n",
      "F1 Score for #trainwreckstv: 0.5\n",
      "\n",
      "Accuracy: 0.7407407407407407\n",
      "F1 Score: 0.7398986287875177\n",
      "Weighted Precision: 0.7396476337448559\n",
      "Weighted Recall: 0.7407407407407407\n",
      "+--------------+--------------------+-----+----------+\n",
      "|       channel|             message|label|prediction|\n",
      "+--------------+--------------------+-----+----------+\n",
      "|    #loltyler1|         ???????????|  0.0|       1.0|\n",
      "|    #loltyler1|      howd that hit?|  0.0|       2.0|\n",
      "| #easportsfifa|           lets gooo|  1.0|       2.0|\n",
      "|#trainwreckstv|I still don’t und...|  2.0|       0.0|\n",
      "| #easportsfifa|           rip tekkz|  1.0|       1.0|\n",
      "| #easportsfifa|  y chile? y los br?|  1.0|       1.0|\n",
      "| #easportsfifa|NEW TIMES NEW PLA...|  1.0|       0.0|\n",
      "| #easportsfifa|     amigo que final|  1.0|       1.0|\n",
      "| #easportsfifa|               hello|  1.0|       0.0|\n",
      "|    #loltyler1|           Lollipop!|  0.0|       1.0|\n",
      "|    #loltyler1|!challenger tyler...|  0.0|       0.0|\n",
      "| #easportsfifa|Intento hacer eso...|  1.0|       0.0|\n",
      "|    #loltyler1|BigBrother 🏅 🏅 ...|  0.0|       0.0|\n",
      "| #easportsfifa|          vamos nico|  1.0|       1.0|\n",
      "|#trainwreckstv|Just pay this man...|  2.0|       0.0|\n",
      "| #easportsfifa|      @tote33349 bit|  1.0|       0.0|\n",
      "|    #loltyler1|                KEKW|  0.0|       0.0|\n",
      "| #easportsfifa|  EUROPA A CASAAAAAA|  1.0|       0.0|\n",
      "| #easportsfifa|        DALE BOCAAAA|  1.0|       1.0|\n",
      "|    #loltyler1|PotFriend PotFrie...|  0.0|       0.0|\n",
      "+--------------+--------------------+-----+----------+\n",
      "only showing top 20 rows\n",
      "\n"
     ]
    },
    {
     "name": "stderr",
     "output_type": "stream",
     "text": [
      "22/05/27 18:12:31 WARN RandomBlockReplicationPolicy: Expecting 1 replicas with only 0 peer/s.\n",
      "22/05/27 18:12:31 WARN BlockManager: Block input-0-1653667951400 replicated to only 0 peer(s) instead of 1 peers\n",
      "22/05/27 18:12:31 WARN RandomBlockReplicationPolicy: Expecting 1 replicas with only 0 peer/s.\n",
      "22/05/27 18:12:31 WARN BlockManager: Block input-0-1653667951600 replicated to only 0 peer(s) instead of 1 peers\n",
      "22/05/27 18:12:32 WARN RandomBlockReplicationPolicy: Expecting 1 replicas with only 0 peer/s.\n",
      "22/05/27 18:12:32 WARN BlockManager: Block input-0-1653667952400 replicated to only 0 peer(s) instead of 1 peers\n",
      "22/05/27 18:12:32 WARN RandomBlockReplicationPolicy: Expecting 1 replicas with only 0 peer/s.\n",
      "22/05/27 18:12:32 WARN BlockManager: Block input-0-1653667952600 replicated to only 0 peer(s) instead of 1 peers\n",
      "22/05/27 18:12:33 WARN RandomBlockReplicationPolicy: Expecting 1 replicas with only 0 peer/s.\n",
      "22/05/27 18:12:33 WARN BlockManager: Block input-0-1653667953400 replicated to only 0 peer(s) instead of 1 peers\n",
      "22/05/27 18:12:33 WARN RandomBlockReplicationPolicy: Expecting 1 replicas with only 0 peer/s.\n",
      "22/05/27 18:12:33 WARN BlockManager: Block input-0-1653667953600 replicated to only 0 peer(s) instead of 1 peers\n",
      "22/05/27 18:12:34 WARN RandomBlockReplicationPolicy: Expecting 1 replicas with only 0 peer/s.\n",
      "22/05/27 18:12:34 WARN BlockManager: Block input-0-1653667954600 replicated to only 0 peer(s) instead of 1 peers\n",
      "22/05/27 18:12:35 WARN RandomBlockReplicationPolicy: Expecting 1 replicas with only 0 peer/s.\n",
      "22/05/27 18:12:35 WARN BlockManager: Block input-0-1653667955400 replicated to only 0 peer(s) instead of 1 peers\n",
      "22/05/27 18:12:35 WARN RandomBlockReplicationPolicy: Expecting 1 replicas with only 0 peer/s.\n",
      "22/05/27 18:12:35 WARN BlockManager: Block input-0-1653667955600 replicated to only 0 peer(s) instead of 1 peers\n",
      "22/05/27 18:12:36 WARN RandomBlockReplicationPolicy: Expecting 1 replicas with only 0 peer/s.\n",
      "22/05/27 18:12:36 WARN BlockManager: Block input-0-1653667956600 replicated to only 0 peer(s) instead of 1 peers\n",
      "22/05/27 18:12:37 WARN RandomBlockReplicationPolicy: Expecting 1 replicas with only 0 peer/s.\n",
      "22/05/27 18:12:37 WARN BlockManager: Block input-0-1653667957600 replicated to only 0 peer(s) instead of 1 peers\n",
      "22/05/27 18:12:38 WARN RandomBlockReplicationPolicy: Expecting 1 replicas with only 0 peer/s.\n",
      "22/05/27 18:12:38 WARN BlockManager: Block input-0-1653667958400 replicated to only 0 peer(s) instead of 1 peers\n",
      "22/05/27 18:12:38 WARN RandomBlockReplicationPolicy: Expecting 1 replicas with only 0 peer/s.\n",
      "22/05/27 18:12:38 WARN BlockManager: Block input-0-1653667958600 replicated to only 0 peer(s) instead of 1 peers\n",
      "                                                                                \r"
     ]
    },
    {
     "name": "stdout",
     "output_type": "stream",
     "text": [
      "========= 2022-05-27 18:12:40 =========\n",
      "+--------------+--------------------+--------------------+--------------------+\n",
      "|       channel|            datetime|             message|            username|\n",
      "+--------------+--------------------+--------------------+--------------------+\n",
      "|    #loltyler1|2022-05-27T16:12:...|              SO BAD|              fleacr|\n",
      "|    #loltyler1|2022-05-27T16:12:...|               ?????|            au_kappa|\n",
      "|#trainwreckstv|2022-05-27T16:12:...|                yes?|           threestax|\n",
      "|    #loltyler1|2022-05-27T16:12:...|                  ff|             lloneki|\n",
      "| #easportsfifa|2022-05-27T16:12:...|🇦🇷🇦🇷🇦🇷🇦🇷🇦🇷|         dubsgab2045|\n",
      "|    #loltyler1|2022-05-27T16:12:...|            OMEGALUL|           nl_jewfro|\n",
      "|    #loltyler1|2022-05-27T16:12:...|      kr jhin monkaS|             foker01|\n",
      "|    #loltyler1|2022-05-27T16:12:...|           flash 4th|           based_one|\n",
      "| #easportsfifa|2022-05-27T16:12:...|                  hi|             dav1027|\n",
      "|    #loltyler1|2022-05-27T16:12:...|              KR RDY|             kryot1c|\n",
      "|    #loltyler1|2022-05-27T16:12:...|                KEKW|tengounadeficenci...|\n",
      "| #easportsfifa|2022-05-27T16:12:...|            ADN BOCA|             matia01|\n",
      "|    #loltyler1|2022-05-27T16:12:...|                KEKW|              bsod87|\n",
      "| #easportsfifa|2022-05-27T16:12:...|LOS QUIERO A LOS DOS|        totobordieri|\n",
      "|    #loltyler1|2022-05-27T16:12:...|                  :D|             vrbasan|\n",
      "|    #loltyler1|2022-05-27T16:12:...|            flash???|           twinkiex0|\n",
      "|    #loltyler1|2022-05-27T16:12:...|                 LUL|              ace_s7|\n",
      "|    #loltyler1|2022-05-27T16:12:...|                KEKW|             abrinee|\n",
      "|    #loltyler1|2022-05-27T16:12:...|   only 600 lp to go|     verryberryjerry|\n",
      "| #easportsfifa|2022-05-27T16:12:...|              iceman|           vishiko77|\n",
      "+--------------+--------------------+--------------------+--------------------+\n",
      "only showing top 20 rows\n",
      "\n"
     ]
    },
    {
     "name": "stderr",
     "output_type": "stream",
     "text": [
      "22/05/27 18:12:40 WARN RandomBlockReplicationPolicy: Expecting 1 replicas with only 0 peer/s.\n",
      "22/05/27 18:12:40 WARN BlockManager: Block input-0-1653667960400 replicated to only 0 peer(s) instead of 1 peers\n",
      "22/05/27 18:12:40 WARN RandomBlockReplicationPolicy: Expecting 1 replicas with only 0 peer/s.\n",
      "22/05/27 18:12:40 WARN BlockManager: Block input-0-1653667960600 replicated to only 0 peer(s) instead of 1 peers\n"
     ]
    },
    {
     "name": "stdout",
     "output_type": "stream",
     "text": [
      "F1 Score for #loltyler1: 0.8749999999999999\n",
      "F1 Score for #easportsfifa: 0.7407407407407406\n",
      "F1 Score for #trainwreckstv: 0.28571428571428575\n",
      "\n",
      "Accuracy: 0.7959183673469388\n",
      "F1 Score: 0.7967552100205161\n",
      "Weighted Precision: 0.8151360544217687\n",
      "Weighted Recall: 0.7959183673469388\n",
      "+--------------+--------------------+-----+----------+\n",
      "|       channel|             message|label|prediction|\n",
      "+--------------+--------------------+-----+----------+\n",
      "|    #loltyler1|              SO BAD|  0.0|       0.0|\n",
      "|    #loltyler1|               ?????|  0.0|       1.0|\n",
      "|#trainwreckstv|                yes?|  2.0|       1.0|\n",
      "|    #loltyler1|                  ff|  0.0|       0.0|\n",
      "| #easportsfifa|🇦🇷🇦🇷🇦🇷🇦🇷🇦🇷|  1.0|       1.0|\n",
      "|    #loltyler1|            OMEGALUL|  0.0|       0.0|\n",
      "|    #loltyler1|      kr jhin monkaS|  0.0|       0.0|\n",
      "|    #loltyler1|           flash 4th|  0.0|       0.0|\n",
      "| #easportsfifa|                  hi|  1.0|       1.0|\n",
      "|    #loltyler1|              KR RDY|  0.0|       0.0|\n",
      "|    #loltyler1|                KEKW|  0.0|       0.0|\n",
      "| #easportsfifa|            ADN BOCA|  1.0|       1.0|\n",
      "|    #loltyler1|                KEKW|  0.0|       0.0|\n",
      "| #easportsfifa|LOS QUIERO A LOS DOS|  1.0|       1.0|\n",
      "|    #loltyler1|                  :D|  0.0|       0.0|\n",
      "|    #loltyler1|            flash???|  0.0|       1.0|\n",
      "|    #loltyler1|                 LUL|  0.0|       0.0|\n",
      "|    #loltyler1|                KEKW|  0.0|       0.0|\n",
      "|    #loltyler1|   only 600 lp to go|  0.0|       1.0|\n",
      "| #easportsfifa|              iceman|  1.0|       1.0|\n",
      "+--------------+--------------------+-----+----------+\n",
      "only showing top 20 rows\n",
      "\n"
     ]
    },
    {
     "name": "stderr",
     "output_type": "stream",
     "text": [
      "22/05/27 18:12:41 WARN RandomBlockReplicationPolicy: Expecting 1 replicas with only 0 peer/s.\n",
      "22/05/27 18:12:41 WARN BlockManager: Block input-0-1653667961400 replicated to only 0 peer(s) instead of 1 peers\n",
      "22/05/27 18:12:41 WARN RandomBlockReplicationPolicy: Expecting 1 replicas with only 0 peer/s.\n",
      "22/05/27 18:12:41 WARN BlockManager: Block input-0-1653667961600 replicated to only 0 peer(s) instead of 1 peers\n",
      "22/05/27 18:12:42 WARN RandomBlockReplicationPolicy: Expecting 1 replicas with only 0 peer/s.\n",
      "22/05/27 18:12:42 WARN BlockManager: Block input-0-1653667962400 replicated to only 0 peer(s) instead of 1 peers\n",
      "22/05/27 18:12:42 WARN RandomBlockReplicationPolicy: Expecting 1 replicas with only 0 peer/s.\n",
      "22/05/27 18:12:42 WARN BlockManager: Block input-0-1653667962600 replicated to only 0 peer(s) instead of 1 peers\n",
      "22/05/27 18:12:43 WARN RandomBlockReplicationPolicy: Expecting 1 replicas with only 0 peer/s.\n",
      "22/05/27 18:12:43 WARN BlockManager: Block input-0-1653667963600 replicated to only 0 peer(s) instead of 1 peers\n",
      "22/05/27 18:12:44 WARN RandomBlockReplicationPolicy: Expecting 1 replicas with only 0 peer/s.\n",
      "22/05/27 18:12:44 WARN BlockManager: Block input-0-1653667964600 replicated to only 0 peer(s) instead of 1 peers\n",
      "22/05/27 18:12:45 WARN RandomBlockReplicationPolicy: Expecting 1 replicas with only 0 peer/s.\n",
      "22/05/27 18:12:45 WARN BlockManager: Block input-0-1653667965600 replicated to only 0 peer(s) instead of 1 peers\n",
      "22/05/27 18:12:46 WARN RandomBlockReplicationPolicy: Expecting 1 replicas with only 0 peer/s.\n",
      "22/05/27 18:12:46 WARN BlockManager: Block input-0-1653667966600 replicated to only 0 peer(s) instead of 1 peers\n",
      "22/05/27 18:12:47 WARN RandomBlockReplicationPolicy: Expecting 1 replicas with only 0 peer/s.\n",
      "22/05/27 18:12:47 WARN BlockManager: Block input-0-1653667967600 replicated to only 0 peer(s) instead of 1 peers\n",
      "22/05/27 18:12:48 WARN RandomBlockReplicationPolicy: Expecting 1 replicas with only 0 peer/s.\n",
      "22/05/27 18:12:48 WARN BlockManager: Block input-0-1653667968600 replicated to only 0 peer(s) instead of 1 peers\n",
      "22/05/27 18:12:49 WARN RandomBlockReplicationPolicy: Expecting 1 replicas with only 0 peer/s.\n",
      "22/05/27 18:12:49 WARN BlockManager: Block input-0-1653667969600 replicated to only 0 peer(s) instead of 1 peers\n",
      "                                                                                \r"
     ]
    },
    {
     "name": "stdout",
     "output_type": "stream",
     "text": [
      "========= 2022-05-27 18:12:50 =========\n",
      "+--------------+--------------------+--------------------+-------------------+\n",
      "|       channel|            datetime|             message|           username|\n",
      "+--------------+--------------------+--------------------+-------------------+\n",
      "|    #loltyler1|2022-05-27T16:12:...|               !rank|        jimboslic33|\n",
      "| #easportsfifa|2022-05-27T16:12:...|LO DIJO BIEN CLAR...|            sebam75|\n",
      "|    #loltyler1|2022-05-27T16:12:...|        time to roam|          falls2010|\n",
      "|    #loltyler1|2022-05-27T16:12:...|  Shot like dogs LUL|            grimeto|\n",
      "|#trainwreckstv|2022-05-27T16:12:...|What is the max w...|     thedarknighttt|\n",
      "|    #loltyler1|2022-05-27T16:12:...|lmao what was tha...|        bunnyzqueen|\n",
      "|    #loltyler1|2022-05-27T16:12:...|               sez u|pepperspraylaughing|\n",
      "|    #loltyler1|2022-05-27T16:12:...|            GET GOOD|          offens1v3|\n",
      "| #easportsfifa|2022-05-27T16:12:...|        eafifaLetsGo|           josetej1|\n",
      "|    #loltyler1|2022-05-27T16:12:...|        JESUS CHRIST|        tructrucker|\n",
      "|    #loltyler1|2022-05-27T16:12:...|             he KEKW|      badmeetseviix|\n",
      "|    #loltyler1|2022-05-27T16:12:...|He gets soloed by...|         krakencrow|\n",
      "|    #loltyler1|2022-05-27T16:12:...|      S OMEGALUL BAD|        xxkrusherxx|\n",
      "|#trainwreckstv|2022-05-27T16:12:...|                PogU|         rich_wilde|\n",
      "| #easportsfifa|2022-05-27T16:12:...|VAMOS ARGENTINA A...|            remyksm|\n",
      "|    #loltyler1|2022-05-27T16:12:...|       Clueless Clap|    hamzahfaizasyah|\n",
      "| #easportsfifa|2022-05-27T16:12:...|    Que grande final|          cm_sports|\n",
      "|#trainwreckstv|2022-05-27T16:12:...|                nice|           dings613|\n",
      "|    #loltyler1|2022-05-27T16:12:...|e tu s1lverVgolos...|       santiagogv23|\n",
      "|    #loltyler1|2022-05-27T16:12:...| just leave him KEKW|      randystrikesz|\n",
      "+--------------+--------------------+--------------------+-------------------+\n",
      "only showing top 20 rows\n",
      "\n"
     ]
    },
    {
     "name": "stderr",
     "output_type": "stream",
     "text": [
      "22/05/27 18:12:50 WARN RandomBlockReplicationPolicy: Expecting 1 replicas with only 0 peer/s.\n",
      "22/05/27 18:12:50 WARN BlockManager: Block input-0-1653667970600 replicated to only 0 peer(s) instead of 1 peers\n"
     ]
    },
    {
     "name": "stdout",
     "output_type": "stream",
     "text": [
      "F1 Score for #loltyler1: 0.816326530612245\n",
      "F1 Score for #easportsfifa: 0.6153846153846153\n",
      "F1 Score for #trainwreckstv: 0.5333333333333333\n",
      "\n",
      "Accuracy: 0.7111111111111111\n",
      "F1 Score: 0.7106087563230421\n",
      "Weighted Precision: 0.7266666666666667\n",
      "Weighted Recall: 0.711111111111111\n",
      "+--------------+--------------------+-----+----------+\n",
      "|       channel|             message|label|prediction|\n",
      "+--------------+--------------------+-----+----------+\n",
      "|    #loltyler1|               !rank|  0.0|       0.0|\n",
      "| #easportsfifa|LO DIJO BIEN CLAR...|  1.0|       2.0|\n",
      "|    #loltyler1|        time to roam|  0.0|       0.0|\n",
      "|    #loltyler1|  Shot like dogs LUL|  0.0|       0.0|\n",
      "|#trainwreckstv|What is the max w...|  2.0|       1.0|\n",
      "|    #loltyler1|lmao what was tha...|  0.0|       0.0|\n",
      "|    #loltyler1|               sez u|  0.0|       0.0|\n",
      "|    #loltyler1|            GET GOOD|  0.0|       1.0|\n",
      "| #easportsfifa|        eafifaLetsGo|  1.0|       1.0|\n",
      "|    #loltyler1|        JESUS CHRIST|  0.0|       0.0|\n",
      "|    #loltyler1|             he KEKW|  0.0|       0.0|\n",
      "|    #loltyler1|He gets soloed by...|  0.0|       0.0|\n",
      "|    #loltyler1|      S OMEGALUL BAD|  0.0|       0.0|\n",
      "|#trainwreckstv|                PogU|  2.0|       0.0|\n",
      "| #easportsfifa|VAMOS ARGENTINA A...|  1.0|       1.0|\n",
      "|    #loltyler1|       Clueless Clap|  0.0|       2.0|\n",
      "| #easportsfifa|    Que grande final|  1.0|       1.0|\n",
      "|#trainwreckstv|                nice|  2.0|       1.0|\n",
      "|    #loltyler1|e tu s1lverVgolos...|  0.0|       1.0|\n",
      "|    #loltyler1| just leave him KEKW|  0.0|       0.0|\n",
      "+--------------+--------------------+-----+----------+\n",
      "only showing top 20 rows\n",
      "\n"
     ]
    },
    {
     "name": "stderr",
     "output_type": "stream",
     "text": [
      "22/05/27 18:12:51 WARN RandomBlockReplicationPolicy: Expecting 1 replicas with only 0 peer/s.\n",
      "22/05/27 18:12:51 WARN BlockManager: Block input-0-1653667971600 replicated to only 0 peer(s) instead of 1 peers\n",
      "22/05/27 18:12:52 WARN RandomBlockReplicationPolicy: Expecting 1 replicas with only 0 peer/s.\n",
      "22/05/27 18:12:52 WARN BlockManager: Block input-0-1653667972600 replicated to only 0 peer(s) instead of 1 peers\n",
      "22/05/27 18:12:53 WARN RandomBlockReplicationPolicy: Expecting 1 replicas with only 0 peer/s.\n",
      "22/05/27 18:12:53 WARN BlockManager: Block input-0-1653667973600 replicated to only 0 peer(s) instead of 1 peers\n",
      "22/05/27 18:12:54 WARN RandomBlockReplicationPolicy: Expecting 1 replicas with only 0 peer/s.\n",
      "22/05/27 18:12:54 WARN BlockManager: Block input-0-1653667974600 replicated to only 0 peer(s) instead of 1 peers\n",
      "22/05/27 18:12:55 WARN RandomBlockReplicationPolicy: Expecting 1 replicas with only 0 peer/s.\n",
      "22/05/27 18:12:55 WARN BlockManager: Block input-0-1653667975600 replicated to only 0 peer(s) instead of 1 peers\n",
      "22/05/27 18:12:56 WARN RandomBlockReplicationPolicy: Expecting 1 replicas with only 0 peer/s.\n",
      "22/05/27 18:12:56 WARN BlockManager: Block input-0-1653667976600 replicated to only 0 peer(s) instead of 1 peers\n",
      "22/05/27 18:12:57 WARN RandomBlockReplicationPolicy: Expecting 1 replicas with only 0 peer/s.\n",
      "22/05/27 18:12:57 WARN BlockManager: Block input-0-1653667977600 replicated to only 0 peer(s) instead of 1 peers\n",
      "22/05/27 18:12:58 WARN RandomBlockReplicationPolicy: Expecting 1 replicas with only 0 peer/s.\n",
      "22/05/27 18:12:58 WARN BlockManager: Block input-0-1653667978600 replicated to only 0 peer(s) instead of 1 peers\n"
     ]
    }
   ],
   "source": [
    "ssc_t = StreamingThread(ssc)\n",
    "ssc_t.start()"
   ]
  },
  {
   "cell_type": "code",
   "execution_count": 11,
   "metadata": {
    "scrolled": false
   },
   "outputs": [
    {
     "name": "stdout",
     "output_type": "stream",
     "text": [
      "----- Stopping... this may take a few seconds -----\n"
     ]
    },
    {
     "name": "stderr",
     "output_type": "stream",
     "text": [
      "22/05/27 18:14:08 WARN StreamingContext: StreamingContext has already been stopped\n"
     ]
    }
   ],
   "source": [
    "ssc_t.stop()"
   ]
  },
  {
   "cell_type": "code",
   "execution_count": null,
   "metadata": {},
   "outputs": [],
   "source": []
  }
 ],
 "metadata": {
  "kernelspec": {
   "display_name": "Python 3 (ipykernel)",
   "language": "python",
   "name": "python3"
  },
  "language_info": {
   "codemirror_mode": {
    "name": "ipython",
    "version": 3
   },
   "file_extension": ".py",
   "mimetype": "text/x-python",
   "name": "python",
   "nbconvert_exporter": "python",
   "pygments_lexer": "ipython3",
   "version": "3.9.12"
  },
  "toc": {
   "base_numbering": 1,
   "nav_menu": {},
   "number_sections": true,
   "sideBar": true,
   "skip_h1_title": false,
   "title_cell": "Table of Contents",
   "title_sidebar": "Contents",
   "toc_cell": false,
   "toc_position": {},
   "toc_section_display": true,
   "toc_window_display": false
  }
 },
 "nbformat": 4,
 "nbformat_minor": 2
}
